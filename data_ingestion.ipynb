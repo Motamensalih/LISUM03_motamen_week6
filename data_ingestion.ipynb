{
  "nbformat": 4,
  "nbformat_minor": 0,
  "metadata": {
    "colab": {
      "name": "data_ingestion.ipynb",
      "provenance": [],
      "collapsed_sections": []
    },
    "kernelspec": {
      "name": "python3",
      "display_name": "Python 3"
    },
    "language_info": {
      "name": "python"
    }
  },
  "cells": [
    {
      "cell_type": "markdown",
      "metadata": {
        "id": "pbp4uUJDGGXj"
      },
      "source": [
        "# **Utility File**"
      ]
    },
    {
      "cell_type": "code",
      "metadata": {
        "colab": {
          "base_uri": "https://localhost:8080/"
        },
        "id": "NBI3BOihW7_-",
        "outputId": "f6dc6ce6-c4e1-4cca-f861-afdd60aef9bd"
      },
      "source": [
        "\n",
        "%%writefile testutility.py\n",
        "\n",
        "import logging  \n",
        "import os\n",
        "import subprocess\n",
        "import yaml\n",
        "import pandas as pd\n",
        "import gc\n",
        "import datetime\n",
        "import re\n",
        "from os.path import getsize\n",
        "import gzip\n",
        "\n",
        "################\n",
        "# FILE READING #\n",
        "################\n",
        "\n",
        "def read_config_file(filepath):\n",
        "  with open(filepath , 'r') as stream:\n",
        "    try:\n",
        "      return yaml.safe_load(stream)\n",
        "    except yaml.YAMLError as exc:\n",
        "      logging.error(exc)\n",
        "\n",
        "\n",
        "def replacer(string , char):\n",
        "  pattern = char + '{2,}'\n",
        "  string = re.sub(pattern , char , string)\n",
        "  return string\n",
        "\n",
        "# This function is for removing white spaces , special characters,\n",
        "# leading and trailing underscores , and replacing double characters \n",
        "# with one character\n",
        "\n",
        "#############################################\n",
        "# VALIDATION OF DATA COLUMNS WITH YAML FILE #\n",
        "#############################################\n",
        "\n",
        "def col_header_val(df , table_config):\n",
        "  df.columns = df.columns.str.lower()\n",
        "  df.columns = df.columns.str.replace(\"[^\\w]\" , '_' ,regex = True)\n",
        "  df.columns = list(map(lambda x: x.strip('_') , list(df.columns)))\n",
        "  df.columns = list(map(lambda x: replacer(x , '_') , list(df.columns)))\n",
        "  expected_col = list(map(lambda x: x.lower() , table_config['columns']))\n",
        "  expected_col.sort()\n",
        "  df.columns = list(map(lambda x: x.lower() , list(df.columns)))\n",
        "  df = df.reindex(sorted(df.columns) , axis = 1)\n",
        "\n",
        "  if len(df.columns)== len(expected_col) and list(expected_col)== list(df.columns):\n",
        "    print(\"column name and column length validation passed\")\n",
        "    return 1\n",
        "  else:\n",
        "    print(\"column name and column length validation failed\")\n",
        "    mismatched_columns_file = list(set(df.columns).difference(expected_col))\n",
        "    print(\"following file columns are not in the YAML file\" , mismatched_columns_file)\n",
        "    missing_YAML_file = list(set(expected_col).difference(df.columns))\n",
        "    print(\"following YAML columns are not in the file uploaded\" , missing_YAML_file)\n",
        "    logging.info(f\"df columns:{df.columns}\")\n",
        "    logging.info(f\"expected columns:{expected_col}\")\n",
        "    return 0 \n",
        "\n",
        "def file_summary(filepath , df):\n",
        "  print(\"size of file is {0} GB\".format(round(getsize(filepath)/(1024*1024*1024) , 2)))\n",
        "  print(\"the csv file has {0} rows\".format(df.shape[0]))\n",
        "  print(\"the csv file has {0} columns\".format(len(df.columns)))\n",
        "\n",
        "def write_file(df , root_folder , outfile , outbound_delimiter):\n",
        "  outfile_name = root_folder + outfile + '.txt'\n",
        "  df.to_csv(outfile_name, header=None, index=None, sep=outbound_delimiter, mode='a')\n",
        "  f_in = open(outfile_name , 'rb')\n",
        "  f_out = gzip.open(f'{outfile}.txt.gz', 'wb')\n",
        "  f_out.writelines(f_in)\n",
        "  f_out.close()\n",
        "  f_in.close()\n"
      ],
      "execution_count": null,
      "outputs": [
        {
          "output_type": "stream",
          "name": "stdout",
          "text": [
            "Writing testutility.py\n"
          ]
        }
      ]
    },
    {
      "cell_type": "markdown",
      "metadata": {
        "id": "8nB65e6eGB9i"
      },
      "source": [
        "# **YAML Configuration File**"
      ]
    },
    {
      "cell_type": "code",
      "metadata": {
        "colab": {
          "base_uri": "https://localhost:8080/"
        },
        "id": "vP3NvZbAz66R",
        "outputId": "cc7e32ba-97cc-42a1-83d1-d794858627ea"
      },
      "source": [
        "%%writefile file.yaml\n",
        "file_type: csv\n",
        "dataset_name: testfile\n",
        "file_name: test_data\n",
        "table_name: edsurv\n",
        "inbound_delimiter: \",\"\n",
        "outbound_delimiter: \"|\"\n",
        "skip_leading_rows: 1\n",
        "root_folder: \"/content/drive/MyDrive/\"\n",
        "columns: \n",
        "    - antiNucleus\n",
        "    - event_File\n",
        "    - event_Number\n",
        "    - event_Time\n",
        "    - hist_File\n",
        "    - multiplicity\n",
        "    - NaboveLb\n",
        "    - NbelowLb\n",
        "    - NLb\n",
        "    - primary_Tracks\n",
        "    - prod_Time\n",
        "    - Pt \n",
        "    - run_Number\n",
        "    - vertexx\n",
        "    - vertexy\n",
        "    - vertexz\n"
      ],
      "execution_count": null,
      "outputs": [
        {
          "output_type": "stream",
          "name": "stdout",
          "text": [
            "Writing file.yaml\n"
          ]
        }
      ]
    },
    {
      "cell_type": "code",
      "metadata": {
        "colab": {
          "base_uri": "https://localhost:8080/"
        },
        "id": "AOoU069Bytyt",
        "outputId": "5b69273e-0ad2-45a3-dfaa-942a7d2bd54b"
      },
      "source": [
        "# I saved the large file on my Google Drive\n",
        "from google.colab import drive\n",
        "drive.mount('/content/drive')"
      ],
      "execution_count": 1,
      "outputs": [
        {
          "output_type": "stream",
          "name": "stdout",
          "text": [
            "Mounted at /content/drive\n"
          ]
        }
      ]
    },
    {
      "cell_type": "markdown",
      "metadata": {
        "id": "gvgNMZoBeFVq"
      },
      "source": [
        "# **Dataset Source**"
      ]
    },
    {
      "cell_type": "code",
      "metadata": {
        "id": "UIP_gekQeJA4"
      },
      "source": [
        "#https://sdm.lbl.gov/fastbit/data/samples.html"
      ],
      "execution_count": null,
      "outputs": []
    },
    {
      "cell_type": "markdown",
      "metadata": {
        "id": "HEMdts6yYVGA"
      },
      "source": [
        "# **File Columns**"
      ]
    },
    {
      "cell_type": "code",
      "metadata": {
        "id": "MNUXfmJmYMPH"
      },
      "source": [
        "\n",
        "#the uploaded dataset does not have headers, so i had to add them manually\n",
        "column_names = ['__antiNucleus' , 'event__File' , 'event__Number' , 'event__Time' , '__hist__File' , 'multiplicity' , \n",
        "                'NaboveLb' , 'NbelowLb__' , 'NLb' , 'primary__Tracks' , 'prod__Time' , '__Pt' ,\n",
        "                'run__Number' , 'vertexX$$' , 'vertexY' , 'vertexZ']\n"
      ],
      "execution_count": null,
      "outputs": []
    },
    {
      "cell_type": "code",
      "metadata": {
        "id": "1DI5PCVmGMI5"
      },
      "source": [
        "import testutility as util\n",
        "import time\n",
        "import pandas as pd\n",
        "config_data = util.read_config_file(\"file.yaml\")"
      ],
      "execution_count": null,
      "outputs": []
    },
    {
      "cell_type": "code",
      "metadata": {
        "colab": {
          "base_uri": "https://localhost:8080/"
        },
        "id": "LEBMn3rVX_Pe",
        "outputId": "5d610615-f248-4cde-dfaa-efa6c6fed660"
      },
      "source": [
        "config_data"
      ],
      "execution_count": null,
      "outputs": [
        {
          "output_type": "execute_result",
          "data": {
            "text/plain": [
              "{'columns': ['antiNucleus',\n",
              "  'event_File',\n",
              "  'event_Number',\n",
              "  'event_Time',\n",
              "  'hist_File',\n",
              "  'multiplicity',\n",
              "  'NaboveLb',\n",
              "  'NbelowLb',\n",
              "  'NLb',\n",
              "  'primary_Tracks',\n",
              "  'prod_Time',\n",
              "  'Pt',\n",
              "  'run_Number',\n",
              "  'vertexx',\n",
              "  'vertexy',\n",
              "  'vertexz'],\n",
              " 'dataset_name': 'testfile',\n",
              " 'file_name': 'test_data',\n",
              " 'file_type': 'csv',\n",
              " 'inbound_delimiter': ',',\n",
              " 'outbound_delimiter': '|',\n",
              " 'root_folder': '/content/drive/MyDrive/',\n",
              " 'skip_leading_rows': 1,\n",
              " 'table_name': 'edsurv'}"
            ]
          },
          "metadata": {},
          "execution_count": 5
        }
      ]
    },
    {
      "cell_type": "markdown",
      "metadata": {
        "id": "KAYb-ykgZP5d"
      },
      "source": [
        "# **File Reading Using Parameters**"
      ]
    },
    {
      "cell_type": "code",
      "metadata": {
        "id": "1bI_vd-pZVxF"
      },
      "source": [
        "file_type = config_data['file_type']\n",
        "source_file = config_data['root_folder'] + config_data['file_name'] + f\".{file_type}\""
      ],
      "execution_count": null,
      "outputs": []
    },
    {
      "cell_type": "markdown",
      "metadata": {
        "id": "eM-BBhwE2Tl6"
      },
      "source": [
        "# **File Reading Methods**"
      ]
    },
    {
      "cell_type": "markdown",
      "metadata": {
        "id": "A3QR3cDC2aKJ"
      },
      "source": [
        "# **Dask Method**"
      ]
    },
    {
      "cell_type": "code",
      "metadata": {
        "colab": {
          "base_uri": "https://localhost:8080/"
        },
        "id": "aWuiUe4I305B",
        "outputId": "60146059-cb5c-4dee-f207-6af5294eaa7b"
      },
      "source": [
        "pip install fsspec"
      ],
      "execution_count": null,
      "outputs": [
        {
          "output_type": "stream",
          "name": "stdout",
          "text": [
            "Collecting fsspec\n",
            "  Downloading fsspec-2021.9.0-py3-none-any.whl (123 kB)\n",
            "\u001b[?25l\r\u001b[K     |██▋                             | 10 kB 21.9 MB/s eta 0:00:01\r\u001b[K     |█████▎                          | 20 kB 25.6 MB/s eta 0:00:01\r\u001b[K     |████████                        | 30 kB 29.0 MB/s eta 0:00:01\r\u001b[K     |██████████▋                     | 40 kB 21.1 MB/s eta 0:00:01\r\u001b[K     |█████████████▎                  | 51 kB 11.5 MB/s eta 0:00:01\r\u001b[K     |████████████████                | 61 kB 11.1 MB/s eta 0:00:01\r\u001b[K     |██████████████████▌             | 71 kB 7.8 MB/s eta 0:00:01\r\u001b[K     |█████████████████████▏          | 81 kB 8.7 MB/s eta 0:00:01\r\u001b[K     |███████████████████████▉        | 92 kB 8.1 MB/s eta 0:00:01\r\u001b[K     |██████████████████████████▌     | 102 kB 8.7 MB/s eta 0:00:01\r\u001b[K     |█████████████████████████████▏  | 112 kB 8.7 MB/s eta 0:00:01\r\u001b[K     |███████████████████████████████▉| 122 kB 8.7 MB/s eta 0:00:01\r\u001b[K     |████████████████████████████████| 123 kB 8.7 MB/s \n",
            "\u001b[?25hInstalling collected packages: fsspec\n",
            "Successfully installed fsspec-2021.9.0\n"
          ]
        }
      ]
    },
    {
      "cell_type": "code",
      "metadata": {
        "colab": {
          "base_uri": "https://localhost:8080/"
        },
        "id": "et_m5jX02d1K",
        "outputId": "efec8fbd-4b3b-49e4-a296-4692e4260e6f"
      },
      "source": [
        "from dask import dataframe as dd\n",
        "\n",
        "\n",
        "start = time.time()\n",
        "dask_df = dd.read_csv(source_file , delimiter = config_data['inbound_delimiter']\n",
        "                      , names = column_names)\n",
        "end = time.time()\n",
        "print(\"Read csv with dask took: \",(end-start),\"sec\")"
      ],
      "execution_count": null,
      "outputs": [
        {
          "output_type": "stream",
          "name": "stdout",
          "text": [
            "Read csv with dask took:  0.6866400241851807 sec\n"
          ]
        }
      ]
    },
    {
      "cell_type": "code",
      "metadata": {
        "colab": {
          "base_uri": "https://localhost:8080/",
          "height": 226
        },
        "id": "lFIjAfRG4NKB",
        "outputId": "7f2e8a08-846a-47fc-a750-8f64de163c72"
      },
      "source": [
        "dask_df.head(5)"
      ],
      "execution_count": null,
      "outputs": [
        {
          "output_type": "execute_result",
          "data": {
            "text/html": [
              "<div>\n",
              "<style scoped>\n",
              "    .dataframe tbody tr th:only-of-type {\n",
              "        vertical-align: middle;\n",
              "    }\n",
              "\n",
              "    .dataframe tbody tr th {\n",
              "        vertical-align: top;\n",
              "    }\n",
              "\n",
              "    .dataframe thead th {\n",
              "        text-align: right;\n",
              "    }\n",
              "</style>\n",
              "<table border=\"1\" class=\"dataframe\">\n",
              "  <thead>\n",
              "    <tr style=\"text-align: right;\">\n",
              "      <th></th>\n",
              "      <th>__antiNucleus</th>\n",
              "      <th>event__File</th>\n",
              "      <th>eventNumber</th>\n",
              "      <th>event__Time</th>\n",
              "      <th>__histFile</th>\n",
              "      <th>multiplicity</th>\n",
              "      <th>NaboveLb</th>\n",
              "      <th>NbelowLb__</th>\n",
              "      <th>NLb</th>\n",
              "      <th>primaryTracks</th>\n",
              "      <th>prodTime</th>\n",
              "      <th>Pt</th>\n",
              "      <th>runNumber</th>\n",
              "      <th>vertexX$$</th>\n",
              "      <th>vertexY</th>\n",
              "      <th>vertxZ</th>\n",
              "    </tr>\n",
              "  </thead>\n",
              "  <tbody>\n",
              "    <tr>\n",
              "      <th>0</th>\n",
              "      <td>1</td>\n",
              "      <td>1613423</td>\n",
              "      <td>807</td>\n",
              "      <td>2.001102e+07</td>\n",
              "      <td>1613424</td>\n",
              "      <td>4518</td>\n",
              "      <td>0</td>\n",
              "      <td>0</td>\n",
              "      <td>654</td>\n",
              "      <td>1395</td>\n",
              "      <td>2.001120e+07</td>\n",
              "      <td>10.955403</td>\n",
              "      <td>2288071</td>\n",
              "      <td>-0.288203</td>\n",
              "      <td>0.407312</td>\n",
              "      <td>10.559091</td>\n",
              "    </tr>\n",
              "    <tr>\n",
              "      <th>1</th>\n",
              "      <td>1</td>\n",
              "      <td>1613423</td>\n",
              "      <td>808</td>\n",
              "      <td>2.001102e+07</td>\n",
              "      <td>1613424</td>\n",
              "      <td>886</td>\n",
              "      <td>0</td>\n",
              "      <td>0</td>\n",
              "      <td>61</td>\n",
              "      <td>371</td>\n",
              "      <td>2.001120e+07</td>\n",
              "      <td>23.326479</td>\n",
              "      <td>2288071</td>\n",
              "      <td>-0.247330</td>\n",
              "      <td>0.455916</td>\n",
              "      <td>57.810596</td>\n",
              "    </tr>\n",
              "    <tr>\n",
              "      <th>2</th>\n",
              "      <td>1</td>\n",
              "      <td>1613423</td>\n",
              "      <td>809</td>\n",
              "      <td>2.001102e+07</td>\n",
              "      <td>1613424</td>\n",
              "      <td>638</td>\n",
              "      <td>0</td>\n",
              "      <td>0</td>\n",
              "      <td>7</td>\n",
              "      <td>121</td>\n",
              "      <td>2.001120e+07</td>\n",
              "      <td>2.444299</td>\n",
              "      <td>2288071</td>\n",
              "      <td>-0.390961</td>\n",
              "      <td>0.589534</td>\n",
              "      <td>167.757140</td>\n",
              "    </tr>\n",
              "    <tr>\n",
              "      <th>3</th>\n",
              "      <td>4</td>\n",
              "      <td>1613423</td>\n",
              "      <td>810</td>\n",
              "      <td>2.001102e+07</td>\n",
              "      <td>1613424</td>\n",
              "      <td>4259</td>\n",
              "      <td>0</td>\n",
              "      <td>0</td>\n",
              "      <td>1024</td>\n",
              "      <td>1302</td>\n",
              "      <td>2.001120e+07</td>\n",
              "      <td>9.521868</td>\n",
              "      <td>2288071</td>\n",
              "      <td>-0.290154</td>\n",
              "      <td>0.446027</td>\n",
              "      <td>8.644362</td>\n",
              "    </tr>\n",
              "    <tr>\n",
              "      <th>4</th>\n",
              "      <td>5</td>\n",
              "      <td>1613423</td>\n",
              "      <td>811</td>\n",
              "      <td>2.001102e+07</td>\n",
              "      <td>1613424</td>\n",
              "      <td>3673</td>\n",
              "      <td>1</td>\n",
              "      <td>0</td>\n",
              "      <td>592</td>\n",
              "      <td>1246</td>\n",
              "      <td>2.001120e+07</td>\n",
              "      <td>13.560424</td>\n",
              "      <td>2288071</td>\n",
              "      <td>-0.257418</td>\n",
              "      <td>0.419689</td>\n",
              "      <td>29.022360</td>\n",
              "    </tr>\n",
              "  </tbody>\n",
              "</table>\n",
              "</div>"
            ],
            "text/plain": [
              "   __antiNucleus  event__File  eventNumber  ...  vertexX$$   vertexY      vertxZ\n",
              "0              1      1613423          807  ...  -0.288203  0.407312   10.559091\n",
              "1              1      1613423          808  ...  -0.247330  0.455916   57.810596\n",
              "2              1      1613423          809  ...  -0.390961  0.589534  167.757140\n",
              "3              4      1613423          810  ...  -0.290154  0.446027    8.644362\n",
              "4              5      1613423          811  ...  -0.257418  0.419689   29.022360\n",
              "\n",
              "[5 rows x 16 columns]"
            ]
          },
          "metadata": {},
          "execution_count": 40
        }
      ]
    },
    {
      "cell_type": "markdown",
      "metadata": {
        "id": "S9mOmXQzL8vE"
      },
      "source": [
        "# **Pandas Method**"
      ]
    },
    {
      "cell_type": "code",
      "metadata": {
        "colab": {
          "base_uri": "https://localhost:8080/"
        },
        "id": "jUcBLk0Q-DJD",
        "outputId": "28612502-9aa6-4f22-de02-d7c84981bdaf"
      },
      "source": [
        "start = time.time()\n",
        "pandas_df = pd.read_csv(source_file , delimiter = config_data['inbound_delimiter']\n",
        "                      , names = column_names)\n",
        "end = time.time()\n",
        "print(\"Read csv with pandas took: \",(end-start),\"sec\")"
      ],
      "execution_count": null,
      "outputs": [
        {
          "output_type": "stream",
          "name": "stdout",
          "text": [
            "Read csv with pandas took:  37.546066999435425 sec\n"
          ]
        }
      ]
    },
    {
      "cell_type": "markdown",
      "metadata": {
        "id": "P5-7PmgYMdDY"
      },
      "source": [
        "# **Using Pandas Chunksize**"
      ]
    },
    {
      "cell_type": "code",
      "metadata": {
        "colab": {
          "base_uri": "https://localhost:8080/"
        },
        "id": "boTlzlLtMjTw",
        "outputId": "bb91f704-7f1e-4e17-fd21-ba13322821d5"
      },
      "source": [
        "start = time.time()\n",
        "chunk = pd.read_csv(source_file , delimiter = config_data['inbound_delimiter']\n",
        "                      , names = column_names , chunksize = 100000)\n",
        "end = time.time()\n",
        "print(\"Read csv with pandas chunk took: \",(end-start),\"sec\")\n",
        "pd_chunk_df = pd.concat(chunk)"
      ],
      "execution_count": null,
      "outputs": [
        {
          "output_type": "stream",
          "name": "stdout",
          "text": [
            "Read csv with pandas chunk took:  0.13499212265014648 sec\n"
          ]
        }
      ]
    },
    {
      "cell_type": "markdown",
      "metadata": {
        "id": "UDIWs7A0Tiqh"
      },
      "source": [
        "# **Validation Process**"
      ]
    },
    {
      "cell_type": "code",
      "metadata": {
        "colab": {
          "base_uri": "https://localhost:8080/"
        },
        "id": "tjOJzKZ8aofP",
        "outputId": "875f0acd-1717-40e7-83d8-3cb6805a0cdd"
      },
      "source": [
        "util.col_header_val(pandas_df , config_data)"
      ],
      "execution_count": null,
      "outputs": [
        {
          "output_type": "stream",
          "name": "stdout",
          "text": [
            "column name and column length validation passed\n"
          ]
        },
        {
          "output_type": "execute_result",
          "data": {
            "text/plain": [
              "1"
            ]
          },
          "metadata": {},
          "execution_count": 7
        }
      ]
    },
    {
      "cell_type": "code",
      "metadata": {
        "colab": {
          "base_uri": "https://localhost:8080/"
        },
        "id": "2iyVCEXLbZol",
        "outputId": "71414b71-e7b3-41a9-ad3e-3b5dc9e5d234"
      },
      "source": [
        "print(\"columns of our data\" , list(pandas_df.columns))\n",
        "print(\"columns of the YAML file\" , config_data['columns'])"
      ],
      "execution_count": null,
      "outputs": [
        {
          "output_type": "stream",
          "name": "stdout",
          "text": [
            "columns of our data ['antinucleus', 'event_file', 'event_number', 'event_time', 'hist_file', 'multiplicity', 'nabovelb', 'nbelowlb', 'nlb', 'primary_tracks', 'prod_time', 'pt', 'run_number', 'vertexx', 'vertexy', 'vertexz']\n",
            "columns of the YAML file ['antiNucleus', 'event_File', 'event_Number', 'event_Time', 'hist_File', 'multiplicity', 'NaboveLb', 'NbelowLb', 'NLb', 'primary_Tracks', 'prod_Time', 'Pt', 'run_Number', 'vertexx', 'vertexy', 'vertexz']\n"
          ]
        }
      ]
    },
    {
      "cell_type": "code",
      "metadata": {
        "colab": {
          "base_uri": "https://localhost:8080/"
        },
        "id": "78DPe1_aa6Gk",
        "outputId": "482b7fe5-6cf0-4f2f-cc0a-8bd7caad06b7"
      },
      "source": [
        "if util.col_header_val(pandas_df , config_data) == 0:\n",
        "  print(\"Validation failed\")\n",
        "else :\n",
        "  print(\"Validation passed\")\n",
        "  util.write_file(pandas_df , config_data['root_folder'] , 'out' , config_data['outbound_delimiter'])\n",
        "  print(\"file writing is successful\")\n"
      ],
      "execution_count": null,
      "outputs": [
        {
          "output_type": "stream",
          "name": "stdout",
          "text": [
            "column name and column length validation passed\n",
            "Validation passed\n",
            "file writing is successful\n"
          ]
        }
      ]
    },
    {
      "cell_type": "markdown",
      "metadata": {
        "id": "5nfBn9JXTmLO"
      },
      "source": [
        "# **File Information Summary**"
      ]
    },
    {
      "cell_type": "code",
      "metadata": {
        "colab": {
          "base_uri": "https://localhost:8080/"
        },
        "id": "xW-3HGq_uOuM",
        "outputId": "04069d72-46f0-4e23-c402-282898fafa5e"
      },
      "source": [
        "util.file_summary(source_file , pandas_df)"
      ],
      "execution_count": null,
      "outputs": [
        {
          "output_type": "stream",
          "name": "stdout",
          "text": [
            "size of file is 1.99 GB\n",
            "the csv file has 15857625 rows\n",
            "the csv file has 16 columns\n"
          ]
        }
      ]
    }
  ]
}